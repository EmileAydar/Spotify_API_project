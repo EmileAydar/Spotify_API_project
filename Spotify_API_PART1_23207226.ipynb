{
  "nbformat": 4,
  "nbformat_minor": 0,
  "metadata": {
    "colab": {
      "provenance": []
    },
    "kernelspec": {
      "name": "python3",
      "display_name": "Python 3"
    },
    "language_info": {
      "name": "python"
    }
  },
  "cells": [
    {
      "cell_type": "markdown",
      "source": [
        "# Data Collection via Spotify API\n",
        "*   Student ID : 23207226\n"
      ],
      "metadata": {
        "id": "L_ZhCja2y9Yv"
      }
    },
    {
      "cell_type": "markdown",
      "source": [
        "In this part of the assignment, our goal is to extract music\n",
        "data via the Spotify API. More specifically, we will focus on the collection of music metrics stored by the API for each music, in order to further study the App's consumers' music trends and tastes.\n",
        "In Spotify, musics are classified within labeled categories. However, we can't collect musics directly from those categories as they are stored in playlists (during the conduct of this data collection process, it has been noticed that 1 playlist is associated to each category).\n",
        "After collecting these playlists for 20 categories (we wanted to limit the data volume for sharper and concise analysis), we have extracted 50 music tracks from each playlist, with their corresponding IDs and associated music metrics, and then stored the whole in a JSON file in order to take account of the nested nature of the metrics data within the playlist within a category. This is the reason using a JSON file is seen as more approriate and a more practical choice for that matter."
      ],
      "metadata": {
        "id": "BeQLY2N8zK-A"
      }
    },
    {
      "cell_type": "markdown",
      "source": [
        "## 1.1 - Setup"
      ],
      "metadata": {
        "id": "W1MmVR-23oov"
      }
    },
    {
      "cell_type": "code",
      "execution_count": 1,
      "metadata": {
        "id": "-3vB5ESeVh6V"
      },
      "outputs": [],
      "source": [
        "# we make the required imports\n",
        "import requests\n",
        "import json\n",
        "import pandas as pd\n",
        "from urllib.parse import urlencode\n",
        "import base64\n",
        "import time"
      ]
    },
    {
      "cell_type": "code",
      "source": [
        "# To each Spotify API account is associated an API key to make requests to the API\n",
        "# and a client ID\n",
        "API_KEY = \"db927bad68784b60bac1747c884754e9\"\n",
        "CLIENT_ID = \"25bab89762e942738934d6e271e9f02b\""
      ],
      "metadata": {
        "id": "G0eIaWfEVsEO"
      },
      "execution_count": 2,
      "outputs": []
    },
    {
      "cell_type": "markdown",
      "source": [
        "The function 'get_token' below has been implemented in order to authenticate with the Spotify API and retrieve an access token using the client credentials, in a way that is suitable for a server-to-server authentification, where only the application itself is acting on behalf of the user, as it is the case with the Spotify API.\n",
        "\n",
        "You will notice that the credentials have been encoded using the base64 encoding process after being combined into a string and separated by a colon. This encoding process is imposed by Spotify because the API requires to be provided in the 'Authorization' header in base-64 form when making a request for an access token.\n",
        "\n"
      ],
      "metadata": {
        "id": "1kCPpMCH0ZXj"
      }
    },
    {
      "cell_type": "code",
      "source": [
        "def get_token(API_KEY, CLIENT_ID):\n",
        "    # indicating the endpoint for requesting the token\n",
        "    auth_url = \"https://accounts.spotify.com/api/token\"\n",
        "\n",
        "    # base-64 encoding process of the client credentials\n",
        "    client_creds = f\"{CLIENT_ID}:{API_KEY}\"\n",
        "    client_creds_b64 = base64.urlsafe_b64encode(client_creds.encode()).decode()\n",
        "\n",
        "    # headers initialized as a dictionnary containing the\n",
        "    #Authorization header (to authenticate the request to the API) and\n",
        "    # content type indicating the format of the data in the request body\n",
        "    headers = {\n",
        "        \"Authorization\": f\"Basic {client_creds_b64}\",\n",
        "        \"Content-Type\": \"application/x-www-form-urlencoded\"\n",
        "    }\n",
        "    # this dictionnary contains a single key-value pair where we specify the\n",
        "    #type of grant we are requesting, and set it to our own credentials,\n",
        "    # as the applications is requesting access on its own behalf, not on ours.\n",
        "    data = {\n",
        "        \"grant_type\": \"client_credentials\"\n",
        "    }\n",
        "\n",
        "    # we make a post request to the API to attempt to obtain an access token\n",
        "    response = requests.post(auth_url, headers=headers, data=data)\n",
        "\n",
        "    # check if request works (it does when the status code is btw 200 and 299)\n",
        "    if response.status_code in range(200, 299):\n",
        "        # token extraction procss\n",
        "        token_response_data = response.json()\n",
        "        access_token = token_response_data.get(\"access_token\")\n",
        "        return access_token\n",
        "    else: #if request does not work\n",
        "        return None\n"
      ],
      "metadata": {
        "id": "H4zW6nJMWvEy"
      },
      "execution_count": 3,
      "outputs": []
    },
    {
      "cell_type": "markdown",
      "source": [
        "## 1.2 - Implementation of functions to fetch music categories and their associated tracks, and data collection loop"
      ],
      "metadata": {
        "id": "IYvQ_B0Q2kVG"
      }
    },
    {
      "cell_type": "markdown",
      "source": [
        "In this block, we are coding the logic of the functions to fetch 20categories, the corresponding playlist of the category and 50 tracks from each playlist of a category.\n",
        "\n",
        "Then we code a data collection loop for that matter.\n",
        "To avoid going beyond the authorized API rate, we put two 30 sec-waiting times at the beginning and the end of the collection loop.\n",
        "\n",
        "We will see however that the author has still succeeded in going beyond the API rate and getting an error after multiple attempts. Fortunately, sufficient data has been collected to conduct the second part of the analysis."
      ],
      "metadata": {
        "id": "DM0kxnZt2yaD"
      }
    },
    {
      "cell_type": "code",
      "source": [
        "def fetch_categories(access_token, limit=20):\n",
        "   # set up the URL link to fetch categories. A limit parameter is set to extract the desired amount of categories\n",
        "    categories_url = \"https://api.spotify.com/v1/browse/categories?limit=\" + str(limit)\n",
        "    headers = {\"Authorization\": f\"Bearer {access_token}\"} # authorization header with our access token\n",
        "    response = requests.get(categories_url, headers=headers) # sending a get request to the API to get the categories\n",
        "    response.raise_for_status()  # checking step to see if the request has failed or not (success --> 200 to 299)\n",
        "    categories_data = response.json() # parsing the respnse data to json\n",
        "    return categories_data['categories']['items'] # we return the list of category items\n",
        "\n",
        "def fetch_playlists_for_category(access_token, category_id):\n",
        "    # similarly, we sett up the url to fetch a playlist within a category given its ID, and put an optional limit as it is already 1\n",
        "    playlists_url = f\"https://api.spotify.com/v1/browse/categories/{category_id}/playlists?limit=1\"\n",
        "    headers = {\"Authorization\": f\"Bearer {access_token}\"} # authorization head and access token\n",
        "    response = requests.get(playlists_url, headers=headers) # get request to fetch the playlist\n",
        "    response.raise_for_status() # check for success of the request\n",
        "    playlists_data = response.json() # parsing data to json again\n",
        "    return playlists_data['playlists']['items'] # returning the list of playlist item\n",
        "\n",
        "def fetch_tracks_from_playlist(access_token, playlist_id, limit=50):\n",
        "  # again, set up of the url to fetch the music tracks within a playlist given its ID, and setting up a limit param\n",
        "    tracks_url = f\"https://api.spotify.com/v1/playlists/{playlist_id}/tracks?limit={limit}\"\n",
        "    headers = {\"Authorization\": f\"Bearer {access_token}\"}\n",
        "    response = requests.get(tracks_url, headers=headers) # sending get request to the API\n",
        "    response.raise_for_status() # check if request is ok\n",
        "    tracks_data = response.json() # parsing the data to json\n",
        "    tracks = [] # setting an empty list to hold the track data\n",
        "    for item in tracks_data['items']: # going through all the track items\n",
        "        if item['track']:  # ensuring that there is a track object\n",
        "            track = item['track'] # selecting the items of the detected track object\n",
        "            # appending the track with its id and name\n",
        "            tracks.append({\n",
        "                'id': track['id'],\n",
        "                'name': track['name']\n",
        "            })\n",
        "    return tracks\n",
        "\n",
        "def fetch_audio_features(access_token, track_ids):\n",
        "    # we setup again the url for audio features (music metrics) extraction\n",
        "    features_url = f\"https://api.spotify.com/v1/audio-features?ids={','.join(track_ids)}\"\n",
        "    headers = {\"Authorization\": f\"Bearer {access_token}\"}\n",
        "    response = requests.get(features_url, headers=headers) # sending get request for fetching tracks\n",
        "    response.raise_for_status() # check if request is ok\n",
        "    features_data = response.json() # parsing the data to json\n",
        "    return features_data['audio_features'] # returning the list of audio feature items\n",
        "\n",
        "# data collection function\n",
        "def collect_data(access_token):\n",
        "    time.sleep(30) # to avoid going beyond the API rate, we wait a bit (Spotify API refreshes every 30 s)\n",
        "\n",
        "    data = {}  # initializing a dict to store the categories\n",
        "\n",
        "    # category fetching by calling the function, the limit is already set to 20 so it won't collect more\n",
        "    categories = fetch_categories(access_token)\n",
        "    # going through the collected categories\n",
        "    for category in categories:\n",
        "        category_id = category['id'] # collecting category's id and name\n",
        "        category_name = category['name']\n",
        "        data[category_name] = []  # initializing a list for the playlist of the category (I didn't know there was only one when I coded this, but it still works so did not change the logic)\n",
        "\n",
        "        # fetching the playlist for the category\n",
        "        playlists = fetch_playlists_for_category(access_token, category_id)\n",
        "\n",
        "        # going thorugh the list and collecting the playlist ID\n",
        "        for playlist in playlists:\n",
        "            playlist_id = playlist['id']\n",
        "            playlist_data = {'id': playlist_id, 'tracks': []} # setting a dict with the playlist ID and a list of tracks\n",
        "\n",
        "            # now we fetch tracks for the given playlist\n",
        "            tracks = fetch_tracks_from_playlist(access_token, playlist_id)\n",
        "\n",
        "            # going through tracks\n",
        "            for track in tracks:\n",
        "                # fetching the tracks' id and name in a dict\n",
        "                track_data = {'id': track['id'], 'name': track['name']}\n",
        "                # fetching and appending the corresponding audio features for each track given its ID\n",
        "                audio_features = fetch_audio_features(access_token, track['id'])\n",
        "                if audio_features: # if there is any audio feature\n",
        "                    track_data['audio_features'] = audio_features # we select it\n",
        "                playlist_data['tracks'].append(track_data) # and append it to the track data dict\n",
        "            if playlist_data['tracks']:  # to ensure that there are tracks before adding the playlist data\n",
        "                data[category_name].append(playlist_data)\n",
        "    time.sleep(30) # another precaution step to avoid reaching the authorized api rate\n",
        "\n",
        "    return data\n",
        "\n",
        "\n",
        "\n"
      ],
      "metadata": {
        "id": "EcWeNQpfZPuW"
      },
      "execution_count": 4,
      "outputs": []
    },
    {
      "cell_type": "code",
      "source": [
        "access_token = get_token(API_KEY, CLIENT_ID) # calling the access token\n",
        "collected_data = collect_data(access_token) # initializing collection loop with the provided token\n",
        "\n",
        "# data is dumped in a json file and saved for further usage\n",
        "with open('spotify_data.json', 'w') as f:\n",
        "    json.dump(collected_data, f, indent=4)\n",
        "\n",
        "# as you can see below, a 429 client Error is displayed, signaling that the API rate has been\n",
        "#reached. The API does not allow me any access anymore for further data collection"
      ],
      "metadata": {
        "colab": {
          "base_uri": "https://localhost:8080/",
          "height": 373
        },
        "id": "LURKHo5MI9eF",
        "outputId": "d74aeabf-addd-461a-f744-1763cb64439a"
      },
      "execution_count": 5,
      "outputs": [
        {
          "output_type": "error",
          "ename": "HTTPError",
          "evalue": "429 Client Error: Too Many Requests for url: https://api.spotify.com/v1/audio-features?ids=0,N,j,0,v,1,z,G,v,D,L,g,v,h,j,L,L,z,M,z,o,m",
          "traceback": [
            "\u001b[0;31m---------------------------------------------------------------------------\u001b[0m",
            "\u001b[0;31mHTTPError\u001b[0m                                 Traceback (most recent call last)",
            "\u001b[0;32m<ipython-input-5-99c9adda970c>\u001b[0m in \u001b[0;36m<cell line: 2>\u001b[0;34m()\u001b[0m\n\u001b[1;32m      1\u001b[0m \u001b[0maccess_token\u001b[0m \u001b[0;34m=\u001b[0m \u001b[0mget_token\u001b[0m\u001b[0;34m(\u001b[0m\u001b[0mAPI_KEY\u001b[0m\u001b[0;34m,\u001b[0m \u001b[0mCLIENT_ID\u001b[0m\u001b[0;34m)\u001b[0m\u001b[0;34m\u001b[0m\u001b[0;34m\u001b[0m\u001b[0m\n\u001b[0;32m----> 2\u001b[0;31m \u001b[0mcollected_data\u001b[0m \u001b[0;34m=\u001b[0m \u001b[0mcollect_data\u001b[0m\u001b[0;34m(\u001b[0m\u001b[0maccess_token\u001b[0m\u001b[0;34m)\u001b[0m\u001b[0;34m\u001b[0m\u001b[0;34m\u001b[0m\u001b[0m\n\u001b[0m\u001b[1;32m      3\u001b[0m \u001b[0;31m# display_categories(access_token)\u001b[0m\u001b[0;34m\u001b[0m\u001b[0;34m\u001b[0m\u001b[0m\n\u001b[1;32m      4\u001b[0m \u001b[0;31m# Save data to JSON\u001b[0m\u001b[0;34m\u001b[0m\u001b[0;34m\u001b[0m\u001b[0m\n\u001b[1;32m      5\u001b[0m \u001b[0;32mwith\u001b[0m \u001b[0mopen\u001b[0m\u001b[0;34m(\u001b[0m\u001b[0;34m'spotify_data.json'\u001b[0m\u001b[0;34m,\u001b[0m \u001b[0;34m'w'\u001b[0m\u001b[0;34m)\u001b[0m \u001b[0;32mas\u001b[0m \u001b[0mf\u001b[0m\u001b[0;34m:\u001b[0m\u001b[0;34m\u001b[0m\u001b[0;34m\u001b[0m\u001b[0m\n",
            "\u001b[0;32m<ipython-input-4-25347ff6905c>\u001b[0m in \u001b[0;36mcollect_data\u001b[0;34m(access_token)\u001b[0m\n\u001b[1;32m     68\u001b[0m                 \u001b[0mtrack_data\u001b[0m \u001b[0;34m=\u001b[0m \u001b[0;34m{\u001b[0m\u001b[0;34m'id'\u001b[0m\u001b[0;34m:\u001b[0m \u001b[0mtrack\u001b[0m\u001b[0;34m[\u001b[0m\u001b[0;34m'id'\u001b[0m\u001b[0;34m]\u001b[0m\u001b[0;34m,\u001b[0m \u001b[0;34m'name'\u001b[0m\u001b[0;34m:\u001b[0m \u001b[0mtrack\u001b[0m\u001b[0;34m[\u001b[0m\u001b[0;34m'name'\u001b[0m\u001b[0;34m]\u001b[0m\u001b[0;34m,\u001b[0m \u001b[0;34m'popularity'\u001b[0m\u001b[0;34m:\u001b[0m \u001b[0mtrack\u001b[0m\u001b[0;34m[\u001b[0m\u001b[0;34m'popularity'\u001b[0m\u001b[0;34m]\u001b[0m\u001b[0;34m}\u001b[0m\u001b[0;34m\u001b[0m\u001b[0;34m\u001b[0m\u001b[0m\n\u001b[1;32m     69\u001b[0m                 \u001b[0;31m# Optionally fetch and append audio features for each track\u001b[0m\u001b[0;34m\u001b[0m\u001b[0;34m\u001b[0m\u001b[0m\n\u001b[0;32m---> 70\u001b[0;31m                 \u001b[0maudio_features\u001b[0m \u001b[0;34m=\u001b[0m \u001b[0mfetch_audio_features\u001b[0m\u001b[0;34m(\u001b[0m\u001b[0maccess_token\u001b[0m\u001b[0;34m,\u001b[0m \u001b[0mtrack\u001b[0m\u001b[0;34m[\u001b[0m\u001b[0;34m'id'\u001b[0m\u001b[0;34m]\u001b[0m\u001b[0;34m)\u001b[0m\u001b[0;34m\u001b[0m\u001b[0;34m\u001b[0m\u001b[0m\n\u001b[0m\u001b[1;32m     71\u001b[0m                 \u001b[0;32mif\u001b[0m \u001b[0maudio_features\u001b[0m\u001b[0;34m:\u001b[0m\u001b[0;34m\u001b[0m\u001b[0;34m\u001b[0m\u001b[0m\n\u001b[1;32m     72\u001b[0m                     \u001b[0mtrack_data\u001b[0m\u001b[0;34m[\u001b[0m\u001b[0;34m'audio_features'\u001b[0m\u001b[0;34m]\u001b[0m \u001b[0;34m=\u001b[0m \u001b[0maudio_features\u001b[0m\u001b[0;34m\u001b[0m\u001b[0;34m\u001b[0m\u001b[0m\n",
            "\u001b[0;32m<ipython-input-4-25347ff6905c>\u001b[0m in \u001b[0;36mfetch_audio_features\u001b[0;34m(access_token, track_ids)\u001b[0m\n\u001b[1;32m     36\u001b[0m     \u001b[0mheaders\u001b[0m \u001b[0;34m=\u001b[0m \u001b[0;34m{\u001b[0m\u001b[0;34m\"Authorization\"\u001b[0m\u001b[0;34m:\u001b[0m \u001b[0;34mf\"Bearer {access_token}\"\u001b[0m\u001b[0;34m}\u001b[0m\u001b[0;34m\u001b[0m\u001b[0;34m\u001b[0m\u001b[0m\n\u001b[1;32m     37\u001b[0m     \u001b[0mresponse\u001b[0m \u001b[0;34m=\u001b[0m \u001b[0mrequests\u001b[0m\u001b[0;34m.\u001b[0m\u001b[0mget\u001b[0m\u001b[0;34m(\u001b[0m\u001b[0mfeatures_url\u001b[0m\u001b[0;34m,\u001b[0m \u001b[0mheaders\u001b[0m\u001b[0;34m=\u001b[0m\u001b[0mheaders\u001b[0m\u001b[0;34m)\u001b[0m\u001b[0;34m\u001b[0m\u001b[0;34m\u001b[0m\u001b[0m\n\u001b[0;32m---> 38\u001b[0;31m     \u001b[0mresponse\u001b[0m\u001b[0;34m.\u001b[0m\u001b[0mraise_for_status\u001b[0m\u001b[0;34m(\u001b[0m\u001b[0;34m)\u001b[0m\u001b[0;34m\u001b[0m\u001b[0;34m\u001b[0m\u001b[0m\n\u001b[0m\u001b[1;32m     39\u001b[0m     \u001b[0mfeatures_data\u001b[0m \u001b[0;34m=\u001b[0m \u001b[0mresponse\u001b[0m\u001b[0;34m.\u001b[0m\u001b[0mjson\u001b[0m\u001b[0;34m(\u001b[0m\u001b[0;34m)\u001b[0m\u001b[0;34m\u001b[0m\u001b[0;34m\u001b[0m\u001b[0m\n\u001b[1;32m     40\u001b[0m     \u001b[0;32mreturn\u001b[0m \u001b[0mfeatures_data\u001b[0m\u001b[0;34m[\u001b[0m\u001b[0;34m'audio_features'\u001b[0m\u001b[0;34m]\u001b[0m\u001b[0;34m\u001b[0m\u001b[0;34m\u001b[0m\u001b[0m\n",
            "\u001b[0;32m/usr/local/lib/python3.10/dist-packages/requests/models.py\u001b[0m in \u001b[0;36mraise_for_status\u001b[0;34m(self)\u001b[0m\n\u001b[1;32m   1019\u001b[0m \u001b[0;34m\u001b[0m\u001b[0m\n\u001b[1;32m   1020\u001b[0m         \u001b[0;32mif\u001b[0m \u001b[0mhttp_error_msg\u001b[0m\u001b[0;34m:\u001b[0m\u001b[0;34m\u001b[0m\u001b[0;34m\u001b[0m\u001b[0m\n\u001b[0;32m-> 1021\u001b[0;31m             \u001b[0;32mraise\u001b[0m \u001b[0mHTTPError\u001b[0m\u001b[0;34m(\u001b[0m\u001b[0mhttp_error_msg\u001b[0m\u001b[0;34m,\u001b[0m \u001b[0mresponse\u001b[0m\u001b[0;34m=\u001b[0m\u001b[0mself\u001b[0m\u001b[0;34m)\u001b[0m\u001b[0;34m\u001b[0m\u001b[0;34m\u001b[0m\u001b[0m\n\u001b[0m\u001b[1;32m   1022\u001b[0m \u001b[0;34m\u001b[0m\u001b[0m\n\u001b[1;32m   1023\u001b[0m     \u001b[0;32mdef\u001b[0m \u001b[0mclose\u001b[0m\u001b[0;34m(\u001b[0m\u001b[0mself\u001b[0m\u001b[0;34m)\u001b[0m\u001b[0;34m:\u001b[0m\u001b[0;34m\u001b[0m\u001b[0;34m\u001b[0m\u001b[0m\n",
            "\u001b[0;31mHTTPError\u001b[0m: 429 Client Error: Too Many Requests for url: https://api.spotify.com/v1/audio-features?ids=0,N,j,0,v,1,z,G,v,D,L,g,v,h,j,L,L,z,M,z,o,m"
          ]
        }
      ]
    }
  ]
}